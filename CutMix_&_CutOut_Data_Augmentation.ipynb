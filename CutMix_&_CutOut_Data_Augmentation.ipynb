{
  "cells": [
    {
      "cell_type": "markdown",
      "metadata": {
        "id": "view-in-github",
        "colab_type": "text"
      },
      "source": [
        "<a href=\"https://colab.research.google.com/github/TrushaT/CutMix-CutOut-Data-Augmentation-/blob/main/CutMix_%26_CutOut_Data_Augmentation.ipynb\" target=\"_parent\"><img src=\"https://colab.research.google.com/assets/colab-badge.svg\" alt=\"Open In Colab\"/></a>"
      ]
    },
    {
      "cell_type": "markdown",
      "metadata": {
        "id": "UAAaG92_7JwJ"
      },
      "source": [
        "####Importing Libraries and Fashion MNIST dataset"
      ]
    },
    {
      "cell_type": "code",
      "source": [
        "# !pip install tensorflow==2.8.0"
      ],
      "metadata": {
        "id": "QkFBhV7wW0MH"
      },
      "execution_count": 1,
      "outputs": []
    },
    {
      "cell_type": "code",
      "execution_count": 2,
      "metadata": {
        "id": "plZl-9Rb63wj"
      },
      "outputs": [],
      "source": [
        "import tensorflow as tf\n",
        "import numpy as np\n",
        "import pandas as pd\n",
        "import matplotlib.pyplot as plt\n",
        "from tensorflow import keras\n",
        "from tensorflow.keras.utils import to_categorical"
      ]
    },
    {
      "cell_type": "code",
      "source": [
        "# install helper utilities\n",
        "!git clone https://github.com/liady/ssp19ai_utils.git\n",
        "!git -C ssp19ai_utils pull\n",
        "import ssp19ai_utils.utils as utils\n",
        "import importlib\n",
        "importlib.reload(utils)"
      ],
      "metadata": {
        "id": "gCl-7FQqvmNY",
        "colab": {
          "base_uri": "https://localhost:8080/"
        },
        "outputId": "f915d0b8-c765-4d5d-a8b7-392750cc3a86"
      },
      "execution_count": 3,
      "outputs": [
        {
          "output_type": "stream",
          "name": "stdout",
          "text": [
            "Cloning into 'ssp19ai_utils'...\n",
            "remote: Enumerating objects: 78, done.\u001b[K\n",
            "remote: Total 78 (delta 0), reused 0 (delta 0), pack-reused 78\u001b[K\n",
            "Unpacking objects: 100% (78/78), done.\n",
            "Already up to date.\n"
          ]
        },
        {
          "output_type": "execute_result",
          "data": {
            "text/plain": [
              "<module 'ssp19ai_utils.utils' from '/content/ssp19ai_utils/utils.py'>"
            ]
          },
          "metadata": {},
          "execution_count": 3
        }
      ]
    },
    {
      "cell_type": "code",
      "source": [
        "from google.colab import drive\n",
        "drive.mount('/content/drive')"
      ],
      "metadata": {
        "colab": {
          "base_uri": "https://localhost:8080/"
        },
        "id": "POAtESJ8xR_e",
        "outputId": "6bf91d35-b6dd-48c0-abb7-b35981987b7c"
      },
      "execution_count": 4,
      "outputs": [
        {
          "output_type": "stream",
          "name": "stdout",
          "text": [
            "Mounted at /content/drive\n"
          ]
        }
      ]
    },
    {
      "cell_type": "markdown",
      "metadata": {
        "id": "XehioGlu7cVU"
      },
      "source": [
        "About the dataset: \n",
        "- The Fashion MNIST dataset which contains 70,000 images in 10 \n",
        "categories. \n",
        "- The images show individual articles of clothing at low resolution (28 by 28 pixels)\n",
        "- 60,000 images are used to train the network and 10,000 images to evaluate how accurately the network learned to classify images."
      ]
    },
    {
      "cell_type": "code",
      "execution_count": 5,
      "metadata": {
        "id": "EvUokgCA7QNV",
        "colab": {
          "base_uri": "https://localhost:8080/"
        },
        "outputId": "7d24a04e-5400-45de-8313-7b6d616a1694"
      },
      "outputs": [
        {
          "output_type": "stream",
          "name": "stdout",
          "text": [
            "Downloading data from https://storage.googleapis.com/tensorflow/tf-keras-datasets/train-labels-idx1-ubyte.gz\n",
            "32768/29515 [=================================] - 0s 0us/step\n",
            "40960/29515 [=========================================] - 0s 0us/step\n",
            "Downloading data from https://storage.googleapis.com/tensorflow/tf-keras-datasets/train-images-idx3-ubyte.gz\n",
            "26427392/26421880 [==============================] - 0s 0us/step\n",
            "26435584/26421880 [==============================] - 0s 0us/step\n",
            "Downloading data from https://storage.googleapis.com/tensorflow/tf-keras-datasets/t10k-labels-idx1-ubyte.gz\n",
            "16384/5148 [===============================================================================================] - 0s 0us/step\n",
            "Downloading data from https://storage.googleapis.com/tensorflow/tf-keras-datasets/t10k-images-idx3-ubyte.gz\n",
            "4423680/4422102 [==============================] - 0s 0us/step\n",
            "4431872/4422102 [==============================] - 0s 0us/step\n"
          ]
        }
      ],
      "source": [
        "fashion_mnist = tf.keras.datasets.fashion_mnist\n",
        "(train_images, train_labels), (test_images, test_labels) = fashion_mnist.load_data()"
      ]
    },
    {
      "cell_type": "markdown",
      "metadata": {
        "id": "FPsX89xA7s2k"
      },
      "source": [
        "The images are 28x28 NumPy arrays, with pixel values ranging from 0 to 255. The *labels* are an array of integers, ranging from 0 to 9. These correspond to the *class* of clothing the image represents:\n",
        "\n",
        "<table>\n",
        "  <tr>\n",
        "    <th>Label</th>\n",
        "    <th>Class</th>\n",
        "  </tr>\n",
        "  <tr>\n",
        "    <td>0</td>\n",
        "    <td>T-shirt/top</td>\n",
        "  </tr>\n",
        "  <tr>\n",
        "    <td>1</td>\n",
        "    <td>Trouser</td>\n",
        "  </tr>\n",
        "    <tr>\n",
        "    <td>2</td>\n",
        "    <td>Pullover</td>\n",
        "  </tr>\n",
        "    <tr>\n",
        "    <td>3</td>\n",
        "    <td>Dress</td>\n",
        "  </tr>\n",
        "    <tr>\n",
        "    <td>4</td>\n",
        "    <td>Coat</td>\n",
        "  </tr>\n",
        "    <tr>\n",
        "    <td>5</td>\n",
        "    <td>Sandal</td>\n",
        "  </tr>\n",
        "    <tr>\n",
        "    <td>6</td>\n",
        "    <td>Shirt</td>\n",
        "  </tr>\n",
        "    <tr>\n",
        "    <td>7</td>\n",
        "    <td>Sneaker</td>\n",
        "  </tr>\n",
        "    <tr>\n",
        "    <td>8</td>\n",
        "    <td>Bag</td>\n",
        "  </tr>\n",
        "    <tr>\n",
        "    <td>9</td>\n",
        "    <td>Ankle boot</td>\n",
        "  </tr>\n",
        "</table>\n"
      ]
    },
    {
      "cell_type": "code",
      "execution_count": 6,
      "metadata": {
        "id": "f4qDGZD47nNV"
      },
      "outputs": [],
      "source": [
        "class_names = ['T-shirt/top', 'Trouser', 'Pullover', 'Dress', 'Coat',\n",
        "               'Sandal', 'Shirt', 'Sneaker', 'Bag', 'Ankle boot']"
      ]
    },
    {
      "cell_type": "markdown",
      "metadata": {
        "id": "BsJERCg374ao"
      },
      "source": [
        "#### Data Exploration & preprocessing"
      ]
    },
    {
      "cell_type": "code",
      "execution_count": 7,
      "metadata": {
        "colab": {
          "base_uri": "https://localhost:8080/"
        },
        "id": "_fwljug378QY",
        "outputId": "b907a1e5-743f-48dc-fec1-ad8f0ae3a0ad"
      },
      "outputs": [
        {
          "output_type": "stream",
          "name": "stdout",
          "text": [
            "(60000, 28, 28)\n",
            "[9 0 0 ... 3 0 5]\n",
            "(10000, 28, 28)\n"
          ]
        }
      ],
      "source": [
        "print(train_images.shape)\n",
        "print(train_labels)\n",
        "print(test_images.shape)"
      ]
    },
    {
      "cell_type": "markdown",
      "metadata": {
        "id": "qPfmv2AT8RMM"
      },
      "source": [
        "Observations: \n",
        "- Each label is an integer between 0 and 9 \n",
        "- There are 10,000 images in the test set. Again, each image is represented as 28 x 28 pixels.(Note: images are not 3 dimensions)\n",
        "- Data must be preprocessed before training the network."
      ]
    },
    {
      "cell_type": "code",
      "execution_count": 8,
      "metadata": {
        "colab": {
          "base_uri": "https://localhost:8080/",
          "height": 265
        },
        "id": "jJfj46sy8-7K",
        "outputId": "93eaef23-e1ee-4fe5-b3d8-e31cf8868a6b"
      },
      "outputs": [
        {
          "output_type": "display_data",
          "data": {
            "text/plain": [
              "<Figure size 432x288 with 2 Axes>"
            ],
            "image/png": "[encoded data removed]"
          },
          "metadata": {
            "needs_background": "light"
          }
        }
      ],
      "source": [
        "plt.figure()\n",
        "plt.imshow(train_images[0])\n",
        "plt.colorbar()\n",
        "plt.grid(False)\n",
        "plt.show()"
      ]
    },
    {
      "cell_type": "markdown",
      "metadata": {
        "id": "Lgm4lCPE9MMf"
      },
      "source": [
        "Here as we can see pixel values fall in range of 0 to 255. Therefore scaling these values to a range of 0 to 1 before feeding them to the neural network model. To do so, divide the values by 255.Also image size is 2d therefore needs to be made 3d"
      ]
    },
    {
      "cell_type": "markdown",
      "metadata": {
        "id": "KVAS4VwnG2Bs"
      },
      "source": [
        "Defining hyperparameters"
      ]
    },
    {
      "cell_type": "code",
      "execution_count": 9,
      "metadata": {
        "id": "BM-t-57_Gy1j"
      },
      "outputs": [],
      "source": [
        "AUTO = tf.data.AUTOTUNE\n",
        "BATCH_SIZE = 32\n",
        "IMG_SIZE = 28"
      ]
    },
    {
      "cell_type": "code",
      "execution_count": 10,
      "metadata": {
        "id": "DXyZlrSBT5iV"
      },
      "outputs": [],
      "source": [
        "#Both training reshaped to make it 3 dimension\n",
        "#Also labels are converted to one hot tensors \n",
        "\n",
        "X_train = train_images.reshape((train_images.shape[0], 28, 28, 1))\n",
        "y_train = to_categorical(train_labels)\n",
        "\n",
        "X_test =  test_images.reshape((test_images.shape[0], 28, 28, 1))\n",
        "y_test = to_categorical(test_labels)"
      ]
    },
    {
      "cell_type": "code",
      "source": [
        "def preprocess_image(image, label):\n",
        "    image = tf.image.resize(image, (IMG_SIZE, IMG_SIZE))\n",
        "    image = tf.image.convert_image_dtype(image, tf.float32) / 255.0\n",
        "    return image, label"
      ],
      "metadata": {
        "id": "SvqDoWIbeuhx"
      },
      "execution_count": 11,
      "outputs": []
    },
    {
      "cell_type": "markdown",
      "metadata": {
        "id": "_eaaSagkSE6d"
      },
      "source": [
        "Creating Tensorflow Input pipeline - \n",
        "Let's convert data to Tensorflow Dataset objects. "
      ]
    },
    {
      "cell_type": "code",
      "execution_count": 12,
      "metadata": {
        "id": "1XYRgEXpSgM2"
      },
      "outputs": [],
      "source": [
        "train_ds_one = (\n",
        "    tf.data.Dataset.from_tensor_slices((X_train, y_train))\n",
        "    .shuffle(1024)\n",
        "    .map(preprocess_image, num_parallel_calls=AUTO)\n",
        ")\n",
        "train_ds_two = (\n",
        "    tf.data.Dataset.from_tensor_slices((X_train, y_train))\n",
        "    .shuffle(1024)\n",
        "    .map(preprocess_image, num_parallel_calls=AUTO)\n",
        ")\n",
        "\n",
        "train_ds_simple = tf.data.Dataset.from_tensor_slices((X_train, y_train))\n",
        "\n",
        "test_ds = tf.data.Dataset.from_tensor_slices((X_test, y_test))\n",
        "\n",
        "train_ds_simple = (\n",
        "    train_ds_simple.map(preprocess_image, num_parallel_calls=AUTO)\n",
        "    .batch(BATCH_SIZE)\n",
        "    .prefetch(AUTO)\n",
        ")\n",
        "\n",
        "# Combine two shuffled datasets from the same training data.\n",
        "train_ds = tf.data.Dataset.zip((train_ds_one, train_ds_two))\n",
        "\n",
        "test_ds = (\n",
        "    test_ds.map(preprocess_image, num_parallel_calls=AUTO)\n",
        "    .batch(BATCH_SIZE)\n",
        "    .prefetch(AUTO)\n",
        ")"
      ]
    },
    {
      "cell_type": "markdown",
      "metadata": {
        "id": "sH9XGZiU9ptk"
      },
      "source": [
        "### Cut mix data augmentation strategy"
      ]
    },
    {
      "cell_type": "markdown",
      "metadata": {
        "id": "AZvcGy2XIkY-"
      },
      "source": [
        "##### Step by Step Detailed Explaination of basic Cutmix strategy \n",
        "\n"
      ]
    },
    {
      "cell_type": "markdown",
      "metadata": {
        "id": "CkjQuB0eDg8W"
      },
      "source": [
        "Cutmix is a data augmentation technique where patch from one random image is extracted and is added to another image creating a new image. "
      ]
    },
    {
      "cell_type": "code",
      "execution_count": 20,
      "metadata": {
        "colab": {
          "base_uri": "https://localhost:8080/",
          "height": 241
        },
        "id": "hThx_6Qf9oKP",
        "outputId": "ef1e9c68-a4b8-4445-8e81-af2beb8f1d54"
      },
      "outputs": [
        {
          "output_type": "stream",
          "name": "stdout",
          "text": [
            "(28, 28, 1)\n",
            "(28, 28)\n",
            "(1, 18, 17)\n",
            "(28, 28, 1)\n"
          ]
        },
        {
          "output_type": "execute_result",
          "data": {
            "text/plain": [
              "<matplotlib.image.AxesImage at 0x7f17ca653990>"
            ]
          },
          "metadata": {},
          "execution_count": 20
        },
        {
          "output_type": "display_data",
          "data": {
            "text/plain": [
              "<Figure size 720x720 with 5 Axes>"
            ],
            "image/png": "[encoded data removed]"
          },
          "metadata": {
            "needs_background": "light"
          }
        }
      ],
      "source": [
        "#Let's first understand crux of cutmix and perform on 2 sample images. \n",
        "import cv2\n",
        "\n",
        "IM_SIZE = 28\n",
        "\n",
        "plt.figure(figsize = (10,10))\n",
        "\n",
        "plt.subplot(1,5,1)\n",
        "image_1 = X_train[0]\n",
        "image_1 = cv2.resize(image_1,(IM_SIZE,IM_SIZE))\n",
        "plt.imshow(image_1)\n",
        "\n",
        "plt.subplot(1,5,2)\n",
        "image_2 = X_train[1]\n",
        "print(image_2.shape)\n",
        "image_2 = cv2.resize(image_2,(IM_SIZE,IM_SIZE))\n",
        "print(image_2.shape)\n",
        "plt.imshow(image_2)\n",
        "\n",
        "plt.subplot(1,5,3)\n",
        "crop = tf.image.crop_to_bounding_box(X_train[1],5,3,18,17)\n",
        "crop = crop.numpy().transpose(2,0,1)\n",
        "print(crop.shape)\n",
        "plt.imshow(crop[0])\n",
        "\n",
        "plt.subplot(1,5,4)\n",
        "crop = tf.image.crop_to_bounding_box(X_train[1],5,3,18,17)\n",
        "image_4 = tf.image.pad_to_bounding_box(crop,5,3,IM_SIZE,IM_SIZE)\n",
        "print(image_4.shape)\n",
        "image_4 = image_4.numpy().transpose(2,0,1)\n",
        "plt.imshow(image_4[0])\n",
        "\n",
        "plt.subplot(1,5,5)\n",
        "crop = tf.image.crop_to_bounding_box(X_train[1],5,3,18,17)\n",
        "image_4 = tf.image.pad_to_bounding_box(crop,5,3,IM_SIZE,IM_SIZE)\n",
        "image_4 = image_4.numpy().transpose(2,0,1)\n",
        "plt.imshow(image_4[0]+image_1)"
      ]
    },
    {
      "cell_type": "markdown",
      "metadata": {
        "id": "JQzPRKx2IsiS"
      },
      "source": [
        "##### Creating Cutmix function and applying on fashion mnist dataset "
      ]
    },
    {
      "cell_type": "code",
      "source": [
        "def sample_beta_distribution(size, concentration_0=0.2, concentration_1=0.2):\n",
        "    gamma_1_sample = tf.random.gamma(shape=[size], alpha=concentration_1)\n",
        "    gamma_2_sample = tf.random.gamma(shape=[size], alpha=concentration_0)\n",
        "    return gamma_1_sample / (gamma_1_sample + gamma_2_sample)"
      ],
      "metadata": {
        "id": "dyu-4wQhcCro"
      },
      "execution_count": 21,
      "outputs": []
    },
    {
      "cell_type": "code",
      "execution_count": 22,
      "metadata": {
        "id": "436EWyWuI05g"
      },
      "outputs": [],
      "source": [
        "@tf.function\n",
        "def get_box(lambda_value):\n",
        "    cut_rat = tf.math.sqrt(1.0 - lambda_value)\n",
        "\n",
        "    cut_w = IMG_SIZE * cut_rat  # rw\n",
        "    cut_w = tf.cast(cut_w, tf.int32)\n",
        "\n",
        "    cut_h = IMG_SIZE * cut_rat  # rh\n",
        "    cut_h = tf.cast(cut_h, tf.int32)\n",
        "\n",
        "    cut_x = tf.random.uniform((1,), minval=0, maxval=IMG_SIZE, dtype=tf.int32)  # rx\n",
        "    cut_y = tf.random.uniform((1,), minval=0, maxval=IMG_SIZE, dtype=tf.int32)  # ry\n",
        "\n",
        "    boundaryx1 = tf.clip_by_value(cut_x[0] - cut_w // 2, 0, IMG_SIZE)\n",
        "    boundaryy1 = tf.clip_by_value(cut_y[0] - cut_h // 2, 0, IMG_SIZE)\n",
        "    bbx2 = tf.clip_by_value(cut_x[0] + cut_w // 2, 0, IMG_SIZE)\n",
        "    bby2 = tf.clip_by_value(cut_y[0] + cut_h // 2, 0, IMG_SIZE)\n",
        "\n",
        "    target_h = bby2 - boundaryy1\n",
        "    if target_h == 0:\n",
        "        target_h += 1\n",
        "\n",
        "    target_w = bbx2 - boundaryx1\n",
        "    if target_w == 0:\n",
        "        target_w += 1\n",
        "\n",
        "    return boundaryx1, boundaryy1, target_h, target_w"
      ]
    },
    {
      "cell_type": "code",
      "source": [
        "@tf.function\n",
        "def cutmix(train_ds_one, train_ds_two):\n",
        "    (image1, label1), (image2, label2) = train_ds_one, train_ds_two\n",
        "\n",
        "    alpha = [0.25]\n",
        "    beta = [0.25]\n",
        "\n",
        "    # Get a sample from the Beta distribution\n",
        "    lambda_value = sample_beta_distribution(1, alpha, beta)\n",
        "\n",
        "    # Define Lambda\n",
        "    lambda_value = lambda_value[0][0]\n",
        "\n",
        "    # Get the bounding box offsets, heights and widths\n",
        "    boundaryx1, boundaryy1, target_h, target_w = get_box(lambda_value)\n",
        "\n",
        "    # Get a patch from the second image (`image2`)\n",
        "    crop2 = tf.image.crop_to_bounding_box(\n",
        "        image2, boundaryy1, boundaryx1, target_h, target_w\n",
        "    )\n",
        "    # Pad the `image2` patch (`crop2`) with the same offset\n",
        "    image2 = tf.image.pad_to_bounding_box(\n",
        "        crop2, boundaryy1, boundaryx1, IMG_SIZE, IMG_SIZE\n",
        "    )\n",
        "    # Get a patch from the first image (`image1`)\n",
        "    crop1 = tf.image.crop_to_bounding_box(\n",
        "        image1, boundaryy1, boundaryx1, target_h, target_w\n",
        "    )\n",
        "    # Pad the `image1` patch (`crop1`) with the same offset\n",
        "    img1 = tf.image.pad_to_bounding_box(\n",
        "        crop1, boundaryy1, boundaryx1, IMG_SIZE, IMG_SIZE\n",
        "    )\n",
        "\n",
        "    # Modify the first image by subtracting the patch from `image1`\n",
        "    # (before applying the `image2` patch)\n",
        "    image1 = image1 - img1\n",
        "    # Add the modified `image1` and `image2`  together to get the CutMix image\n",
        "    image = image1 + image2\n",
        "\n",
        "    # Adjust Lambda in accordance to the pixel ration\n",
        "    lambda_value = 1 - (target_w * target_h) / (IMG_SIZE * IMG_SIZE)\n",
        "    lambda_value = tf.cast(lambda_value, tf.float32)\n",
        "\n",
        "    # Combine the labels of both images\n",
        "    label = lambda_value * label1 + (1 - lambda_value) * label2\n",
        "    return image, label"
      ],
      "metadata": {
        "id": "6pJyzNi_cIIa"
      },
      "execution_count": 23,
      "outputs": []
    },
    {
      "cell_type": "markdown",
      "source": [
        "##### New dataset after Cutmix augmentation "
      ],
      "metadata": {
        "id": "5toJePchJuIG"
      }
    },
    {
      "cell_type": "code",
      "source": [
        "# Create the new dataset using our `cutmix` utility\n",
        "train_ds_cmu = (\n",
        "    train_ds.shuffle(1024)\n",
        "    .map(cutmix, num_parallel_calls=AUTO)\n",
        "    .batch(BATCH_SIZE)\n",
        "    .prefetch(AUTO)\n",
        ")"
      ],
      "metadata": {
        "id": "NqZDakrqJrYZ"
      },
      "execution_count": 24,
      "outputs": []
    },
    {
      "cell_type": "code",
      "source": [
        "train_ds_cmu.cardinality().numpy()"
      ],
      "metadata": {
        "colab": {
          "base_uri": "https://localhost:8080/"
        },
        "id": "1hKbWUQ3Jwdf",
        "outputId": "33a67fce-9a71-4464-9d77-923723699a3b"
      },
      "execution_count": 28,
      "outputs": [
        {
          "output_type": "execute_result",
          "data": {
            "text/plain": [
              "1875"
            ]
          },
          "metadata": {},
          "execution_count": 28
        }
      ]
    },
    {
      "cell_type": "markdown",
      "source": [
        "1875 images were created. "
      ],
      "metadata": {
        "id": "qArnKP0hLXUb"
      }
    },
    {
      "cell_type": "code",
      "source": [
        "# Let's preview 9 samples from the dataset\n",
        "image_batch, label_batch = next(iter(train_ds_cmu))\n",
        "plt.figure(figsize=(10, 10))\n",
        "for i in range(9):\n",
        "    ax = plt.subplot(3, 3, i + 1)\n",
        "    plt.title(class_names[np.argmax(label_batch[i])])\n",
        "    plt.imshow(image_batch[i].numpy().transpose(2,0,1)[0])\n",
        "    plt.axis(\"off\")"
      ],
      "metadata": {
        "colab": {
          "base_uri": "https://localhost:8080/",
          "height": 591
        },
        "id": "I8fscHcMcWLS",
        "outputId": "9a9818e2-5685-4f25-9431-668478270351"
      },
      "execution_count": 23,
      "outputs": [
        {
          "output_type": "display_data",
          "data": {
            "text/plain": [
              "<Figure size 720x720 with 9 Axes>"
            ],
            "image/png": "[encoded data removed]"
          },
          "metadata": {
            "needs_background": "light"
          }
        }
      ]
    },
    {
      "cell_type": "code",
      "source": [
        "len(image_batch)"
      ],
      "metadata": {
        "colab": {
          "base_uri": "https://localhost:8080/"
        },
        "id": "KojIBLNnjF2c",
        "outputId": "92d58ed6-8551-4cef-bbe9-1735b6f36372"
      },
      "execution_count": 24,
      "outputs": [
        {
          "output_type": "execute_result",
          "data": {
            "text/plain": [
              "32"
            ]
          },
          "metadata": {},
          "execution_count": 24
        }
      ]
    },
    {
      "cell_type": "markdown",
      "source": [
        "###Cutout data augmentation "
      ],
      "metadata": {
        "id": "FtQfI52czruD"
      }
    },
    {
      "cell_type": "markdown",
      "source": [
        "Cutout is a data augmentation technique that generally designates the process of obfuscating square regions of an image"
      ],
      "metadata": {
        "id": "0ceetC3WLyJ7"
      }
    },
    {
      "cell_type": "code",
      "source": [
        "!pip install tensorflow-addons==0.9.1"
      ],
      "metadata": {
        "id": "2cIbjjWp7NzV",
        "colab": {
          "base_uri": "https://localhost:8080/"
        },
        "outputId": "ff70119f-d7e9-4364-c478-74ca00220a9a"
      },
      "execution_count": 29,
      "outputs": [
        {
          "output_type": "stream",
          "name": "stdout",
          "text": [
            "Collecting tensorflow-addons==0.9.1\n",
            "  Downloading tensorflow_addons-0.9.1-cp37-cp37m-manylinux2010_x86_64.whl (1.0 MB)\n",
            "\u001b[?25l\r\u001b[K     |▎                               | 10 kB 21.9 MB/s eta 0:00:01\r\u001b[K     |▋                               | 20 kB 21.9 MB/s eta 0:00:01\r\u001b[K     |█                               | 30 kB 26.8 MB/s eta 0:00:01\r\u001b[K     |█▎                              | 40 kB 15.5 MB/s eta 0:00:01\r\u001b[K     |█▋                              | 51 kB 13.4 MB/s eta 0:00:01\r\u001b[K     |██                              | 61 kB 15.4 MB/s eta 0:00:01\r\u001b[K     |██▎                             | 71 kB 12.9 MB/s eta 0:00:01\r\u001b[K     |██▋                             | 81 kB 14.2 MB/s eta 0:00:01\r\u001b[K     |██▉                             | 92 kB 15.5 MB/s eta 0:00:01\r\u001b[K     |███▏                            | 102 kB 13.3 MB/s eta 0:00:01\r\u001b[K     |███▌                            | 112 kB 13.3 MB/s eta 0:00:01\r\u001b[K     |███▉                            | 122 kB 13.3 MB/s eta 0:00:01\r\u001b[K     |████▏                           | 133 kB 13.3 MB/s eta 0:00:01\r\u001b[K     |████▌                           | 143 kB 13.3 MB/s eta 0:00:01\r\u001b[K     |████▉                           | 153 kB 13.3 MB/s eta 0:00:01\r\u001b[K     |█████▏                          | 163 kB 13.3 MB/s eta 0:00:01\r\u001b[K     |█████▍                          | 174 kB 13.3 MB/s eta 0:00:01\r\u001b[K     |█████▊                          | 184 kB 13.3 MB/s eta 0:00:01\r\u001b[K     |██████                          | 194 kB 13.3 MB/s eta 0:00:01\r\u001b[K     |██████▍                         | 204 kB 13.3 MB/s eta 0:00:01\r\u001b[K     |██████▊                         | 215 kB 13.3 MB/s eta 0:00:01\r\u001b[K     |███████                         | 225 kB 13.3 MB/s eta 0:00:01\r\u001b[K     |███████▍                        | 235 kB 13.3 MB/s eta 0:00:01\r\u001b[K     |███████▊                        | 245 kB 13.3 MB/s eta 0:00:01\r\u001b[K     |████████                        | 256 kB 13.3 MB/s eta 0:00:01\r\u001b[K     |████████▎                       | 266 kB 13.3 MB/s eta 0:00:01\r\u001b[K     |████████▋                       | 276 kB 13.3 MB/s eta 0:00:01\r\u001b[K     |█████████                       | 286 kB 13.3 MB/s eta 0:00:01\r\u001b[K     |█████████▎                      | 296 kB 13.3 MB/s eta 0:00:01\r\u001b[K     |█████████▋                      | 307 kB 13.3 MB/s eta 0:00:01\r\u001b[K     |██████████                      | 317 kB 13.3 MB/s eta 0:00:01\r\u001b[K     |██████████▎                     | 327 kB 13.3 MB/s eta 0:00:01\r\u001b[K     |██████████▌                     | 337 kB 13.3 MB/s eta 0:00:01\r\u001b[K     |██████████▉                     | 348 kB 13.3 MB/s eta 0:00:01\r\u001b[K     |███████████▏                    | 358 kB 13.3 MB/s eta 0:00:01\r\u001b[K     |███████████▌                    | 368 kB 13.3 MB/s eta 0:00:01\r\u001b[K     |███████████▉                    | 378 kB 13.3 MB/s eta 0:00:01\r\u001b[K     |████████████▏                   | 389 kB 13.3 MB/s eta 0:00:01\r\u001b[K     |████████████▌                   | 399 kB 13.3 MB/s eta 0:00:01\r\u001b[K     |████████████▉                   | 409 kB 13.3 MB/s eta 0:00:01\r\u001b[K     |█████████████                   | 419 kB 13.3 MB/s eta 0:00:01\r\u001b[K     |█████████████▍                  | 430 kB 13.3 MB/s eta 0:00:01\r\u001b[K     |█████████████▊                  | 440 kB 13.3 MB/s eta 0:00:01\r\u001b[K     |██████████████                  | 450 kB 13.3 MB/s eta 0:00:01\r\u001b[K     |██████████████▍                 | 460 kB 13.3 MB/s eta 0:00:01\r\u001b[K     |██████████████▊                 | 471 kB 13.3 MB/s eta 0:00:01\r\u001b[K     |███████████████                 | 481 kB 13.3 MB/s eta 0:00:01\r\u001b[K     |███████████████▍                | 491 kB 13.3 MB/s eta 0:00:01\r\u001b[K     |███████████████▋                | 501 kB 13.3 MB/s eta 0:00:01\r\u001b[K     |████████████████                | 512 kB 13.3 MB/s eta 0:00:01\r\u001b[K     |████████████████▎               | 522 kB 13.3 MB/s eta 0:00:01\r\u001b[K     |████████████████▋               | 532 kB 13.3 MB/s eta 0:00:01\r\u001b[K     |█████████████████               | 542 kB 13.3 MB/s eta 0:00:01\r\u001b[K     |█████████████████▎              | 552 kB 13.3 MB/s eta 0:00:01\r\u001b[K     |█████████████████▋              | 563 kB 13.3 MB/s eta 0:00:01\r\u001b[K     |██████████████████              | 573 kB 13.3 MB/s eta 0:00:01\r\u001b[K     |██████████████████▏             | 583 kB 13.3 MB/s eta 0:00:01\r\u001b[K     |██████████████████▌             | 593 kB 13.3 MB/s eta 0:00:01\r\u001b[K     |██████████████████▉             | 604 kB 13.3 MB/s eta 0:00:01\r\u001b[K     |███████████████████▏            | 614 kB 13.3 MB/s eta 0:00:01\r\u001b[K     |███████████████████▌            | 624 kB 13.3 MB/s eta 0:00:01\r\u001b[K     |███████████████████▉            | 634 kB 13.3 MB/s eta 0:00:01\r\u001b[K     |████████████████████▏           | 645 kB 13.3 MB/s eta 0:00:01\r\u001b[K     |████████████████████▌           | 655 kB 13.3 MB/s eta 0:00:01\r\u001b[K     |████████████████████▊           | 665 kB 13.3 MB/s eta 0:00:01\r\u001b[K     |█████████████████████           | 675 kB 13.3 MB/s eta 0:00:01\r\u001b[K     |█████████████████████▍          | 686 kB 13.3 MB/s eta 0:00:01\r\u001b[K     |█████████████████████▊          | 696 kB 13.3 MB/s eta 0:00:01\r\u001b[K     |██████████████████████          | 706 kB 13.3 MB/s eta 0:00:01\r\u001b[K     |██████████████████████▍         | 716 kB 13.3 MB/s eta 0:00:01\r\u001b[K     |██████████████████████▊         | 727 kB 13.3 MB/s eta 0:00:01\r\u001b[K     |███████████████████████         | 737 kB 13.3 MB/s eta 0:00:01\r\u001b[K     |███████████████████████▎        | 747 kB 13.3 MB/s eta 0:00:01\r\u001b[K     |███████████████████████▋        | 757 kB 13.3 MB/s eta 0:00:01\r\u001b[K     |████████████████████████        | 768 kB 13.3 MB/s eta 0:00:01\r\u001b[K     |████████████████████████▎       | 778 kB 13.3 MB/s eta 0:00:01\r\u001b[K     |████████████████████████▋       | 788 kB 13.3 MB/s eta 0:00:01\r\u001b[K     |█████████████████████████       | 798 kB 13.3 MB/s eta 0:00:01\r\u001b[K     |█████████████████████████▎      | 808 kB 13.3 MB/s eta 0:00:01\r\u001b[K     |█████████████████████████▋      | 819 kB 13.3 MB/s eta 0:00:01\r\u001b[K     |█████████████████████████▉      | 829 kB 13.3 MB/s eta 0:00:01\r\u001b[K     |██████████████████████████▏     | 839 kB 13.3 MB/s eta 0:00:01\r\u001b[K     |██████████████████████████▌     | 849 kB 13.3 MB/s eta 0:00:01\r\u001b[K     |██████████████████████████▉     | 860 kB 13.3 MB/s eta 0:00:01\r\u001b[K     |███████████████████████████▏    | 870 kB 13.3 MB/s eta 0:00:01\r\u001b[K     |███████████████████████████▌    | 880 kB 13.3 MB/s eta 0:00:01\r\u001b[K     |███████████████████████████▉    | 890 kB 13.3 MB/s eta 0:00:01\r\u001b[K     |████████████████████████████▏   | 901 kB 13.3 MB/s eta 0:00:01\r\u001b[K     |████████████████████████████▍   | 911 kB 13.3 MB/s eta 0:00:01\r\u001b[K     |████████████████████████████▊   | 921 kB 13.3 MB/s eta 0:00:01\r\u001b[K     |█████████████████████████████   | 931 kB 13.3 MB/s eta 0:00:01\r\u001b[K     |█████████████████████████████▍  | 942 kB 13.3 MB/s eta 0:00:01\r\u001b[K     |█████████████████████████████▊  | 952 kB 13.3 MB/s eta 0:00:01\r\u001b[K     |██████████████████████████████  | 962 kB 13.3 MB/s eta 0:00:01\r\u001b[K     |██████████████████████████████▍ | 972 kB 13.3 MB/s eta 0:00:01\r\u001b[K     |██████████████████████████████▊ | 983 kB 13.3 MB/s eta 0:00:01\r\u001b[K     |███████████████████████████████ | 993 kB 13.3 MB/s eta 0:00:01\r\u001b[K     |███████████████████████████████▎| 1.0 MB 13.3 MB/s eta 0:00:01\r\u001b[K     |███████████████████████████████▋| 1.0 MB 13.3 MB/s eta 0:00:01\r\u001b[K     |████████████████████████████████| 1.0 MB 13.3 MB/s eta 0:00:01\r\u001b[K     |████████████████████████████████| 1.0 MB 13.3 MB/s \n",
            "\u001b[?25hRequirement already satisfied: typeguard>=2.7 in /usr/local/lib/python3.7/dist-packages (from tensorflow-addons==0.9.1) (2.7.1)\n",
            "Installing collected packages: tensorflow-addons\n",
            "Successfully installed tensorflow-addons-0.9.1\n"
          ]
        }
      ]
    },
    {
      "cell_type": "code",
      "source": [
        "import tensorflow_addons as tfa\n",
        "@tf.function \n",
        "def random_cut_out(images, labels):\n",
        "    return tfa.image.random_cutout(images, (10, 10), constant_values = 1), labels"
      ],
      "metadata": {
        "colab": {
          "base_uri": "https://localhost:8080/"
        },
        "id": "pEUVFOA2X2l2",
        "outputId": "8c0ec0a1-e2fb-4c5d-88ed-30a7f7635288"
      },
      "execution_count": 30,
      "outputs": [
        {
          "output_type": "stream",
          "name": "stderr",
          "text": [
            "/usr/local/lib/python3.7/dist-packages/tensorflow_addons/utils/ensure_tf_install.py:68: UserWarning: Tensorflow Addons supports using Python ops for all Tensorflow versions above or equal to 2.1.0 and strictly below 2.3.0 (nightly versions are not supported). \n",
            " The versions of TensorFlow you are currently using is 2.8.0 and is not supported. \n",
            "Some things might work, some things might not.\n",
            "If you were to encounter a bug, do not file an issue.\n",
            "If you want to make sure you're using a tested and supported configuration, either change the TensorFlow version or the TensorFlow Addons's version. \n",
            "You can find the compatibility matrix in TensorFlow Addon's readme:\n",
            "https://github.com/tensorflow/addons\n",
            "  UserWarning,\n"
          ]
        }
      ]
    },
    {
      "cell_type": "code",
      "source": [
        "# Create the new dataset using our `cutout` utility\n",
        "train_ds_cutout = (\n",
        "    train_ds_simple.shuffle(1024)\n",
        "    .map(random_cut_out, num_parallel_calls=AUTO)\n",
        ")"
      ],
      "metadata": {
        "id": "PR3KTN8aX6iR"
      },
      "execution_count": 31,
      "outputs": []
    },
    {
      "cell_type": "code",
      "source": [
        "train_ds_cutout.cardinality().numpy()"
      ],
      "metadata": {
        "colab": {
          "base_uri": "https://localhost:8080/"
        },
        "id": "_5nhceAeKKgD",
        "outputId": "1076dddb-2bf7-4eb9-8023-1658148941bf"
      },
      "execution_count": 32,
      "outputs": [
        {
          "output_type": "execute_result",
          "data": {
            "text/plain": [
              "1875"
            ]
          },
          "metadata": {},
          "execution_count": 32
        }
      ]
    },
    {
      "cell_type": "markdown",
      "source": [
        "1875 cutout images were created."
      ],
      "metadata": {
        "id": "W9rEWWzVLgXG"
      }
    },
    {
      "cell_type": "code",
      "source": [
        "# Let's preview 9 samples from the dataset\n",
        "image_batch, label_batch = next(iter(train_ds_cutout))\n",
        "plt.figure(figsize=(10, 10))\n",
        "for i in range(9):\n",
        "    ax = plt.subplot(3, 3, i + 1)\n",
        "    plt.title(class_names[np.argmax(label_batch[i])])\n",
        "    plt.imshow(image_batch[i].numpy().transpose(2,0,1)[0])\n",
        "    plt.axis(\"off\")"
      ],
      "metadata": {
        "colab": {
          "base_uri": "https://localhost:8080/",
          "height": 591
        },
        "id": "IfudbkgwaYk7",
        "outputId": "3e8bdaea-fbb3-4743-ef39-0ffdc6e5631e"
      },
      "execution_count": 30,
      "outputs": [
        {
          "output_type": "display_data",
          "data": {
            "text/plain": [
              "<Figure size 720x720 with 9 Axes>"
            ],
            "image/png": "[encoded data removed]"
          },
          "metadata": {
            "needs_background": "light"
          }
        }
      ]
    },
    {
      "cell_type": "markdown",
      "source": [
        "###Mixed Combination "
      ],
      "metadata": {
        "id": "8lXFQwFsljfc"
      }
    },
    {
      "cell_type": "code",
      "source": [
        "# Combine two shuffled cutmix and cutout datasets \n",
        "train_ds_m = train_ds_cmu.concatenate(train_ds_cutout)\n",
        "\n",
        "train_ds_mixed = (\n",
        "    train_ds_m.shuffle(1024)\n",
        ")"
      ],
      "metadata": {
        "id": "735ax5k4lmSm"
      },
      "execution_count": 34,
      "outputs": []
    },
    {
      "cell_type": "code",
      "source": [
        "train_ds_mixed"
      ],
      "metadata": {
        "colab": {
          "base_uri": "https://localhost:8080/"
        },
        "id": "1LBfvdcK2CbR",
        "outputId": "12c848d8-b7a7-4941-d2a2-b4a090310303"
      },
      "execution_count": 35,
      "outputs": [
        {
          "output_type": "execute_result",
          "data": {
            "text/plain": [
              "<ShuffleDataset element_spec=(TensorSpec(shape=(None, 28, 28, None), dtype=tf.float32, name=None), TensorSpec(shape=(None, 10), dtype=tf.float32, name=None))>"
            ]
          },
          "metadata": {},
          "execution_count": 35
        }
      ]
    },
    {
      "cell_type": "code",
      "source": [
        "train_ds_mixed.cardinality().numpy()"
      ],
      "metadata": {
        "colab": {
          "base_uri": "https://localhost:8080/"
        },
        "id": "UNq52A3AKv4D",
        "outputId": "2d2b127d-c669-4435-b7d8-ae4092fa3764"
      },
      "execution_count": 36,
      "outputs": [
        {
          "output_type": "execute_result",
          "data": {
            "text/plain": [
              "3750"
            ]
          },
          "metadata": {},
          "execution_count": 36
        }
      ]
    },
    {
      "cell_type": "markdown",
      "source": [
        "Combination of 3750 images obtained in mixed."
      ],
      "metadata": {
        "id": "jFYSiQ-ELlHu"
      }
    },
    {
      "cell_type": "code",
      "source": [
        "# Let's preview 9 samples from the dataset\n",
        "image_batch, label_batch = next(iter(train_ds_mixed))\n",
        "plt.figure(figsize=(10, 10))\n",
        "for i in range(9):\n",
        "    ax = plt.subplot(3, 3, i + 1)\n",
        "    plt.title(class_names[np.argmax(label_batch[i])])\n",
        "    plt.imshow(image_batch[i].numpy().transpose(2,0,1)[0])\n",
        "    plt.axis(\"off\")"
      ],
      "metadata": {
        "colab": {
          "base_uri": "https://localhost:8080/",
          "height": 591
        },
        "id": "wH44oERClyFH",
        "outputId": "6092dfab-72bc-4fb9-ddd3-dc7f4594571c"
      },
      "execution_count": 125,
      "outputs": [
        {
          "output_type": "display_data",
          "data": {
            "text/plain": [
              "<Figure size 720x720 with 9 Axes>"
            ],
            "image/png": "[encoded data removed]"
          },
          "metadata": {
            "needs_background": "light"
          }
        }
      ]
    },
    {
      "cell_type": "markdown",
      "source": [
        "### AlexNet model "
      ],
      "metadata": {
        "id": "LIlhLiOOKxAS"
      }
    },
    {
      "cell_type": "markdown",
      "source": [
        "####Model "
      ],
      "metadata": {
        "id": "-JZRALSch6yz"
      }
    },
    {
      "cell_type": "code",
      "source": [
        "# Implementing custom AlexNet model \n",
        "from keras.models import Sequential\n",
        "from keras.layers.core import Dense, Dropout, Activation, Flatten\n",
        "from keras.layers.convolutional import Conv2D, MaxPooling2D, ZeroPadding2D\n",
        "from tensorflow.keras.layers import BatchNormalization\n",
        "from keras.regularizers import l2\n",
        "\n",
        "def alexnet_model(img_shape=(28, 28, 1), n_classes=10, l2_reg=0.,\n",
        "\tweights=None):\n",
        "\n",
        "\t# Initialize model\n",
        "\talexnet = Sequential()\n",
        "\n",
        "\t# Layer 1\n",
        "\talexnet.add(Conv2D(96, (11, 11), input_shape=img_shape,\n",
        "\t\tpadding='same', kernel_regularizer=l2(l2_reg)))\n",
        "\talexnet.add(BatchNormalization())\n",
        "\talexnet.add(Activation('relu'))\n",
        "\talexnet.add(MaxPooling2D(pool_size=(2, 2)))\n",
        "\n",
        "\t# Layer 2\n",
        "\talexnet.add(Conv2D(256, (5, 5), padding='same'))\n",
        "\talexnet.add(BatchNormalization())\n",
        "\talexnet.add(Activation('relu'))\n",
        "\talexnet.add(MaxPooling2D(pool_size=(2, 2)))\n",
        "\n",
        "\t# Layer 3\n",
        "\talexnet.add(ZeroPadding2D((1, 1)))\n",
        "\talexnet.add(Conv2D(512, (3, 3), padding='same'))\n",
        "\talexnet.add(BatchNormalization())\n",
        "\talexnet.add(Activation('relu'))\n",
        "\talexnet.add(MaxPooling2D(pool_size=(2, 2)))\n",
        "\n",
        "\t# Layer 4\n",
        "\talexnet.add(ZeroPadding2D((1, 1)))\n",
        "\talexnet.add(Conv2D(1024, (3, 3), padding='same'))\n",
        "\talexnet.add(BatchNormalization())\n",
        "\talexnet.add(Activation('relu'))\n",
        "\n",
        "\t# Layer 5\n",
        "\talexnet.add(ZeroPadding2D((1, 1)))\n",
        "\talexnet.add(Conv2D(1024, (3, 3), padding='same'))\n",
        "\talexnet.add(BatchNormalization())\n",
        "\talexnet.add(Activation('relu'))\n",
        "\talexnet.add(MaxPooling2D(pool_size=(2, 2)))\n",
        "\n",
        "\t# Layer 6\n",
        "\talexnet.add(Flatten())\n",
        "\talexnet.add(Dense(3072))\n",
        "\talexnet.add(BatchNormalization())\n",
        "\talexnet.add(Activation('relu'))\n",
        "\talexnet.add(Dropout(0.5))\n",
        "\n",
        "\t# Layer 7\n",
        "\talexnet.add(Dense(4096))\n",
        "\talexnet.add(BatchNormalization())\n",
        "\talexnet.add(Activation('relu'))\n",
        "\talexnet.add(Dropout(0.5))\n",
        "\n",
        "\t# Layer 8\n",
        "\talexnet.add(Dense(n_classes))\n",
        "\talexnet.add(BatchNormalization())\n",
        "\talexnet.add(Activation('softmax'))\n",
        "\n",
        "\tif weights is not None:\n",
        "\t\talexnet.load_weights(weights)\n",
        "\n",
        "\treturn alexnet"
      ],
      "metadata": {
        "id": "oR9dFedVK0K_"
      },
      "execution_count": 13,
      "outputs": []
    },
    {
      "cell_type": "code",
      "source": [
        "model = alexnet_model()"
      ],
      "metadata": {
        "id": "sv06s4f-IgKr"
      },
      "execution_count": 14,
      "outputs": []
    },
    {
      "cell_type": "code",
      "source": [
        "model.summary()"
      ],
      "metadata": {
        "colab": {
          "base_uri": "https://localhost:8080/"
        },
        "id": "I9Uynz7WfsEl",
        "outputId": "2426a206-02ed-4bfc-da09-3da2012cba4d"
      },
      "execution_count": 24,
      "outputs": [
        {
          "output_type": "stream",
          "name": "stdout",
          "text": [
            "Model: \"sequential\"\n",
            "_________________________________________________________________\n",
            " Layer (type)                Output Shape              Param #   \n",
            "=================================================================\n",
            " conv2d (Conv2D)             (None, 28, 28, 96)        11712     \n",
            "                                                                 \n",
            " batch_normalization (BatchN  (None, 28, 28, 96)       384       \n",
            " ormalization)                                                   \n",
            "                                                                 \n",
            " activation (Activation)     (None, 28, 28, 96)        0         \n",
            "                                                                 \n",
            " max_pooling2d (MaxPooling2D  (None, 14, 14, 96)       0         \n",
            " )                                                               \n",
            "                                                                 \n",
            " conv2d_1 (Conv2D)           (None, 14, 14, 256)       614656    \n",
            "                                                                 \n",
            " batch_normalization_1 (Batc  (None, 14, 14, 256)      1024      \n",
            " hNormalization)                                                 \n",
            "                                                                 \n",
            " activation_1 (Activation)   (None, 14, 14, 256)       0         \n",
            "                                                                 \n",
            " max_pooling2d_1 (MaxPooling  (None, 7, 7, 256)        0         \n",
            " 2D)                                                             \n",
            "                                                                 \n",
            " zero_padding2d (ZeroPadding  (None, 9, 9, 256)        0         \n",
            " 2D)                                                             \n",
            "                                                                 \n",
            " conv2d_2 (Conv2D)           (None, 9, 9, 512)         1180160   \n",
            "                                                                 \n",
            " batch_normalization_2 (Batc  (None, 9, 9, 512)        2048      \n",
            " hNormalization)                                                 \n",
            "                                                                 \n",
            " activation_2 (Activation)   (None, 9, 9, 512)         0         \n",
            "                                                                 \n",
            " max_pooling2d_2 (MaxPooling  (None, 4, 4, 512)        0         \n",
            " 2D)                                                             \n",
            "                                                                 \n",
            " zero_padding2d_1 (ZeroPaddi  (None, 6, 6, 512)        0         \n",
            " ng2D)                                                           \n",
            "                                                                 \n",
            " conv2d_3 (Conv2D)           (None, 6, 6, 1024)        4719616   \n",
            "                                                                 \n",
            " batch_normalization_3 (Batc  (None, 6, 6, 1024)       4096      \n",
            " hNormalization)                                                 \n",
            "                                                                 \n",
            " activation_3 (Activation)   (None, 6, 6, 1024)        0         \n",
            "                                                                 \n",
            " zero_padding2d_2 (ZeroPaddi  (None, 8, 8, 1024)       0         \n",
            " ng2D)                                                           \n",
            "                                                                 \n",
            " conv2d_4 (Conv2D)           (None, 8, 8, 1024)        9438208   \n",
            "                                                                 \n",
            " batch_normalization_4 (Batc  (None, 8, 8, 1024)       4096      \n",
            " hNormalization)                                                 \n",
            "                                                                 \n",
            " activation_4 (Activation)   (None, 8, 8, 1024)        0         \n",
            "                                                                 \n",
            " max_pooling2d_3 (MaxPooling  (None, 4, 4, 1024)       0         \n",
            " 2D)                                                             \n",
            "                                                                 \n",
            " flatten (Flatten)           (None, 16384)             0         \n",
            "                                                                 \n",
            " dense (Dense)               (None, 3072)              50334720  \n",
            "                                                                 \n",
            " batch_normalization_5 (Batc  (None, 3072)             12288     \n",
            " hNormalization)                                                 \n",
            "                                                                 \n",
            " activation_5 (Activation)   (None, 3072)              0         \n",
            "                                                                 \n",
            " dropout (Dropout)           (None, 3072)              0         \n",
            "                                                                 \n",
            " dense_1 (Dense)             (None, 4096)              12587008  \n",
            "                                                                 \n",
            " batch_normalization_6 (Batc  (None, 4096)             16384     \n",
            " hNormalization)                                                 \n",
            "                                                                 \n",
            " activation_6 (Activation)   (None, 4096)              0         \n",
            "                                                                 \n",
            " dropout_1 (Dropout)         (None, 4096)              0         \n",
            "                                                                 \n",
            " dense_2 (Dense)             (None, 10)                40970     \n",
            "                                                                 \n",
            " batch_normalization_7 (Batc  (None, 10)               40        \n",
            " hNormalization)                                                 \n",
            "                                                                 \n",
            " activation_7 (Activation)   (None, 10)                0         \n",
            "                                                                 \n",
            "=================================================================\n",
            "Total params: 78,967,410\n",
            "Trainable params: 78,947,230\n",
            "Non-trainable params: 20,180\n",
            "_________________________________________________________________\n"
          ]
        }
      ]
    },
    {
      "cell_type": "markdown",
      "source": [
        "#### Model for cutmixed data augmentation "
      ],
      "metadata": {
        "id": "b6yPe5KhYIVr"
      }
    },
    {
      "cell_type": "code",
      "source": [
        "model = alexnet_model()"
      ],
      "metadata": {
        "id": "V4oEZPp_fqKB"
      },
      "execution_count": 23,
      "outputs": []
    },
    {
      "cell_type": "markdown",
      "source": [
        "#####Model Training & evaluation "
      ],
      "metadata": {
        "id": "ZtcNCBvdgl33"
      }
    },
    {
      "cell_type": "code",
      "source": [
        "model.compile(optimizer = 'adam' , loss = 'categorical_crossentropy' , metrics=['accuracy'])"
      ],
      "metadata": {
        "id": "wnSvtah7fwVA"
      },
      "execution_count": null,
      "outputs": []
    },
    {
      "cell_type": "code",
      "source": [
        "history = model.fit(train_ds_cmu, validation_data=test_ds, epochs=15)"
      ],
      "metadata": {
        "colab": {
          "base_uri": "https://localhost:8080/"
        },
        "id": "sKubHfcefyxl",
        "outputId": "40ac21e1-7e1b-49ca-8dfc-b49b8c9439dc"
      },
      "execution_count": null,
      "outputs": [
        {
          "output_type": "stream",
          "name": "stdout",
          "text": [
            "Epoch 1/15\n",
            "1875/1875 [==============================] - 123s 58ms/step - loss: 1.1697 - accuracy: 0.6914 - val_loss: 0.5801 - val_accuracy: 0.8161\n",
            "Epoch 2/15\n",
            "1875/1875 [==============================] - 109s 58ms/step - loss: 0.9846 - accuracy: 0.7460 - val_loss: 0.4349 - val_accuracy: 0.8566\n",
            "Epoch 3/15\n",
            "1875/1875 [==============================] - 110s 59ms/step - loss: 0.9115 - accuracy: 0.7642 - val_loss: 0.4130 - val_accuracy: 0.8678\n",
            "Epoch 4/15\n",
            "1875/1875 [==============================] - 108s 58ms/step - loss: 0.8655 - accuracy: 0.7778 - val_loss: 0.3340 - val_accuracy: 0.8943\n",
            "Epoch 5/15\n",
            "1875/1875 [==============================] - 111s 59ms/step - loss: 0.8368 - accuracy: 0.7853 - val_loss: 0.3158 - val_accuracy: 0.9036\n",
            "Epoch 6/15\n",
            "1875/1875 [==============================] - 108s 58ms/step - loss: 0.8177 - accuracy: 0.7887 - val_loss: 0.2884 - val_accuracy: 0.9099\n",
            "Epoch 7/15\n",
            "1875/1875 [==============================] - 109s 58ms/step - loss: 0.7881 - accuracy: 0.8003 - val_loss: 0.2917 - val_accuracy: 0.9092\n",
            "Epoch 8/15\n",
            "1875/1875 [==============================] - 108s 57ms/step - loss: 0.7675 - accuracy: 0.8036 - val_loss: 0.2656 - val_accuracy: 0.9164\n",
            "Epoch 9/15\n",
            "1875/1875 [==============================] - 108s 57ms/step - loss: 0.7536 - accuracy: 0.8088 - val_loss: 0.2711 - val_accuracy: 0.9156\n",
            "Epoch 10/15\n",
            "1875/1875 [==============================] - 109s 58ms/step - loss: 0.7362 - accuracy: 0.8185 - val_loss: 0.2541 - val_accuracy: 0.9200\n",
            "Epoch 11/15\n",
            "1875/1875 [==============================] - 108s 58ms/step - loss: 0.7248 - accuracy: 0.8208 - val_loss: 0.2494 - val_accuracy: 0.9202\n",
            "Epoch 12/15\n",
            "1875/1875 [==============================] - 108s 58ms/step - loss: 0.7141 - accuracy: 0.8225 - val_loss: 0.2517 - val_accuracy: 0.9281\n",
            "Epoch 13/15\n",
            "1875/1875 [==============================] - 109s 58ms/step - loss: 0.7022 - accuracy: 0.8301 - val_loss: 0.2454 - val_accuracy: 0.9222\n",
            "Epoch 14/15\n",
            "1875/1875 [==============================] - 108s 58ms/step - loss: 0.6897 - accuracy: 0.8360 - val_loss: 0.2629 - val_accuracy: 0.9185\n",
            "Epoch 15/15\n",
            "1875/1875 [==============================] - 110s 59ms/step - loss: 0.6835 - accuracy: 0.8340 - val_loss: 0.2870 - val_accuracy: 0.9105\n"
          ]
        }
      ]
    },
    {
      "cell_type": "code",
      "source": [
        "test_loss, test_accuracy = model.evaluate(test_ds)\n",
        "print(\"Test accuracy: {:.2f}%\".format(test_accuracy * 100))"
      ],
      "metadata": {
        "colab": {
          "base_uri": "https://localhost:8080/"
        },
        "id": "pnk53MJlgHco",
        "outputId": "b139f8ea-d371-45f6-ae1b-81dc0487c646"
      },
      "execution_count": null,
      "outputs": [
        {
          "output_type": "stream",
          "name": "stdout",
          "text": [
            "313/313 [==============================] - 5s 16ms/step - loss: 0.2870 - accuracy: 0.9105\n",
            "Test accuracy: 91.05%\n"
          ]
        }
      ]
    },
    {
      "cell_type": "code",
      "source": [
        "model.save_weights(\"/content/drive/MyDrive/alexnet_model_weights_cutmix.h5\")\n",
        "model.save(\"/content/drive/MyDrive/alexnet_model_cutmix.h5\")"
      ],
      "metadata": {
        "id": "YiGcfFqix17A"
      },
      "execution_count": null,
      "outputs": []
    },
    {
      "cell_type": "code",
      "source": [
        "plt.plot(history.history['accuracy'])\n",
        "plt.plot(history.history['val_accuracy'])\n",
        "plt.title('model accuracy')\n",
        "plt.ylabel('accuracy')\n",
        "plt.xlabel('epoch')\n",
        "plt.legend(['train', 'test'], loc='upper left')\n",
        "plt.show()"
      ],
      "metadata": {
        "colab": {
          "base_uri": "https://localhost:8080/",
          "height": 295
        },
        "id": "QY_S1dPpsZwk",
        "outputId": "93350ef6-c2d0-4da7-c627-90721377c239"
      },
      "execution_count": null,
      "outputs": [
        {
          "output_type": "display_data",
          "data": {
            "text/plain": [
              "<Figure size 432x288 with 1 Axes>"
            ],
            "image/png": "[encoded data removed]"
          },
          "metadata": {
            "needs_background": "light"
          }
        }
      ]
    },
    {
      "cell_type": "code",
      "source": [
        "plt.plot(history.history['loss'])\n",
        "plt.plot(history.history['val_loss'])\n",
        "plt.title('model loss')\n",
        "plt.ylabel('loss')\n",
        "plt.xlabel('epoch')\n",
        "plt.legend(['train', 'test'], loc='upper left')\n",
        "plt.show()"
      ],
      "metadata": {
        "colab": {
          "base_uri": "https://localhost:8080/",
          "height": 295
        },
        "id": "JarnAlexgIlN",
        "outputId": "80b1f222-d93c-4d5b-c971-b502c1d5ecec"
      },
      "execution_count": null,
      "outputs": [
        {
          "output_type": "display_data",
          "data": {
            "text/plain": [
              "<Figure size 432x288 with 1 Axes>"
            ],
            "image/png": "[encoded data removed]"
          },
          "metadata": {
            "needs_background": "light"
          }
        }
      ]
    },
    {
      "cell_type": "markdown",
      "source": [
        "#####Making Predictions "
      ],
      "metadata": {
        "id": "YcZdU-cLufid"
      }
    },
    {
      "cell_type": "code",
      "source": [
        "predictions = model.predict(test_ds)"
      ],
      "metadata": {
        "id": "4CNJ416hgMgG"
      },
      "execution_count": null,
      "outputs": []
    },
    {
      "cell_type": "code",
      "source": [
        "predictions[0]"
      ],
      "metadata": {
        "colab": {
          "base_uri": "https://localhost:8080/"
        },
        "id": "MtkidE8iukko",
        "outputId": "d3e2812f-6777-4f3e-f155-c329391b28da"
      },
      "execution_count": null,
      "outputs": [
        {
          "output_type": "execute_result",
          "data": {
            "text/plain": [
              "array([3.3215777e-04, 2.5718494e-03, 4.5163027e-04, 1.1085862e-03,\n",
              "       7.9972838e-04, 1.6911514e-02, 3.5125366e-03, 6.4546014e-03,\n",
              "       3.3654349e-03, 9.6449196e-01], dtype=float32)"
            ]
          },
          "metadata": {},
          "execution_count": 27
        }
      ]
    },
    {
      "cell_type": "code",
      "source": [
        "predictions[0].argmax()"
      ],
      "metadata": {
        "colab": {
          "base_uri": "https://localhost:8080/"
        },
        "id": "Lfb_0I9gusSc",
        "outputId": "c52886d7-5d5e-48cd-c212-97544c5a1cf7"
      },
      "execution_count": null,
      "outputs": [
        {
          "output_type": "execute_result",
          "data": {
            "text/plain": [
              "9"
            ]
          },
          "metadata": {},
          "execution_count": 28
        }
      ]
    },
    {
      "cell_type": "code",
      "source": [
        "test_labels[0]"
      ],
      "metadata": {
        "colab": {
          "base_uri": "https://localhost:8080/"
        },
        "id": "gDSWo3PluwAH",
        "outputId": "dbd86e3b-9eb9-4a3f-94c9-fc479c78edcb"
      },
      "execution_count": null,
      "outputs": [
        {
          "output_type": "execute_result",
          "data": {
            "text/plain": [
              "9"
            ]
          },
          "metadata": {},
          "execution_count": 29
        }
      ]
    },
    {
      "cell_type": "code",
      "source": [
        "# Show the 0th image:\n",
        "index = 0\n",
        "utils.plot_image_and_prob(predictions, test_labels, test_images, i=index, big=True, class_names=class_names)"
      ],
      "metadata": {
        "colab": {
          "base_uri": "https://localhost:8080/",
          "height": 545
        },
        "id": "Ue3EL2oeuxYV",
        "outputId": "d2290fb7-5143-4797-e058-b00a5b4f6d5f"
      },
      "execution_count": null,
      "outputs": [
        {
          "output_type": "display_data",
          "data": {
            "text/plain": [
              "<Figure size 432x288 with 1 Axes>"
            ],
            "image/png": "[encoded data removed]"
          },
          "metadata": {}
        },
        {
          "output_type": "display_data",
          "data": {
            "text/plain": [
              "<Figure size 432x288 with 1 Axes>"
            ],
            "image/png": "[encoded data removed]"
          },
          "metadata": {
            "needs_background": "light"
          }
        }
      ]
    },
    {
      "cell_type": "code",
      "source": [
        "# As always - let's convert the probabilities array into classes\n",
        "predicted_classes = utils.label_with_highest_prob(predictions)\n",
        "\n",
        "# Plot the matrix\n",
        "utils.plot_confusion_matrix(y_pred=predicted_classes, y_true=test_labels, classes=np.array(class_names))"
      ],
      "metadata": {
        "colab": {
          "base_uri": "https://localhost:8080/",
          "height": 333
        },
        "id": "SrRpXb1mu-D7",
        "outputId": "855df81c-9df8-40b9-916a-8498206052d0"
      },
      "execution_count": null,
      "outputs": [
        {
          "output_type": "stream",
          "name": "stdout",
          "text": [
            "Confusion matrix\n"
          ]
        },
        {
          "output_type": "execute_result",
          "data": {
            "text/plain": [
              "<matplotlib.axes._subplots.AxesSubplot at 0x7fe073720290>"
            ]
          },
          "metadata": {},
          "execution_count": 33
        },
        {
          "output_type": "display_data",
          "data": {
            "text/plain": [
              "<Figure size 432x288 with 2 Axes>"
            ],
            "image/png": "[encoded data removed]"
          },
          "metadata": {
            "needs_background": "light"
          }
        }
      ]
    },
    {
      "cell_type": "code",
      "source": [
        "from sklearn.metrics import classification_report,roc_curve,confusion_matrix\n",
        "print('Classification Report\\n',classification_report(test_labels, predicted_classes))"
      ],
      "metadata": {
        "colab": {
          "base_uri": "https://localhost:8080/"
        },
        "id": "pfAGwJ7qv9mo",
        "outputId": "2cd0425c-05cb-456f-89a7-7ae973822f0c"
      },
      "execution_count": null,
      "outputs": [
        {
          "output_type": "stream",
          "name": "stdout",
          "text": [
            "Classification Report\n",
            "               precision    recall  f1-score   support\n",
            "\n",
            "           0       0.93      0.73      0.82      1000\n",
            "           1       0.99      0.98      0.99      1000\n",
            "           2       0.91      0.80      0.85      1000\n",
            "           3       0.88      0.96      0.92      1000\n",
            "           4       0.83      0.87      0.85      1000\n",
            "           5       0.99      0.98      0.99      1000\n",
            "           6       0.70      0.83      0.76      1000\n",
            "           7       0.97      0.96      0.97      1000\n",
            "           8       0.99      0.99      0.99      1000\n",
            "           9       0.96      0.98      0.97      1000\n",
            "\n",
            "    accuracy                           0.91     10000\n",
            "   macro avg       0.92      0.91      0.91     10000\n",
            "weighted avg       0.92      0.91      0.91     10000\n",
            "\n"
          ]
        }
      ]
    },
    {
      "cell_type": "markdown",
      "source": [
        "#### Model for images which are cutout augmented "
      ],
      "metadata": {
        "id": "9-Cuk82n7vXc"
      }
    },
    {
      "cell_type": "code",
      "source": [
        "model = alexnet_model()"
      ],
      "metadata": {
        "id": "eOMJpPIv7uC3"
      },
      "execution_count": 32,
      "outputs": []
    },
    {
      "cell_type": "markdown",
      "source": [
        "#####Model training & evaluation "
      ],
      "metadata": {
        "id": "LQsOcroRY8Up"
      }
    },
    {
      "cell_type": "code",
      "source": [
        "model.compile(optimizer = 'adam' , loss = 'categorical_crossentropy' , metrics=['accuracy'])"
      ],
      "metadata": {
        "id": "kOO4hQyeYTyc"
      },
      "execution_count": 33,
      "outputs": []
    },
    {
      "cell_type": "code",
      "source": [
        "history = model.fit(train_ds_cutout, validation_data=test_ds, epochs=15)"
      ],
      "metadata": {
        "colab": {
          "base_uri": "https://localhost:8080/"
        },
        "id": "XuB809fqZGIp",
        "outputId": "a9238587-b97e-4840-c5ed-ff20a5b99c05"
      },
      "execution_count": 34,
      "outputs": [
        {
          "output_type": "stream",
          "name": "stdout",
          "text": [
            "Epoch 1/15\n",
            "1875/1875 [==============================] - 132s 63ms/step - loss: 0.6898 - accuracy: 0.7890 - val_loss: 0.5140 - val_accuracy: 0.8324\n",
            "Epoch 2/15\n",
            "1875/1875 [==============================] - 117s 62ms/step - loss: 0.4592 - accuracy: 0.8489 - val_loss: 0.3468 - val_accuracy: 0.8857\n",
            "Epoch 3/15\n",
            "1875/1875 [==============================] - 115s 61ms/step - loss: 0.3864 - accuracy: 0.8701 - val_loss: 0.4280 - val_accuracy: 0.8296\n",
            "Epoch 4/15\n",
            "1875/1875 [==============================] - 114s 60ms/step - loss: 0.3431 - accuracy: 0.8825 - val_loss: 0.2957 - val_accuracy: 0.8940\n",
            "Epoch 5/15\n",
            "1875/1875 [==============================] - 114s 60ms/step - loss: 0.3048 - accuracy: 0.8940 - val_loss: 0.2813 - val_accuracy: 0.9011\n",
            "Epoch 6/15\n",
            "1875/1875 [==============================] - 114s 60ms/step - loss: 0.2757 - accuracy: 0.9028 - val_loss: 0.2486 - val_accuracy: 0.9113\n",
            "Epoch 7/15\n",
            "1875/1875 [==============================] - 119s 63ms/step - loss: 0.2514 - accuracy: 0.9106 - val_loss: 0.2476 - val_accuracy: 0.9087\n",
            "Epoch 8/15\n",
            "1875/1875 [==============================] - 120s 64ms/step - loss: 0.2292 - accuracy: 0.9188 - val_loss: 0.2329 - val_accuracy: 0.9203\n",
            "Epoch 9/15\n",
            "1875/1875 [==============================] - 115s 61ms/step - loss: 0.2105 - accuracy: 0.9249 - val_loss: 0.2312 - val_accuracy: 0.9157\n",
            "Epoch 10/15\n",
            "1875/1875 [==============================] - 113s 60ms/step - loss: 0.1949 - accuracy: 0.9301 - val_loss: 0.2588 - val_accuracy: 0.9113\n",
            "Epoch 11/15\n",
            "1875/1875 [==============================] - 113s 60ms/step - loss: 0.1802 - accuracy: 0.9353 - val_loss: 0.2293 - val_accuracy: 0.9168\n",
            "Epoch 12/15\n",
            "1875/1875 [==============================] - 114s 60ms/step - loss: 0.1634 - accuracy: 0.9411 - val_loss: 0.2332 - val_accuracy: 0.9200\n",
            "Epoch 13/15\n",
            "1875/1875 [==============================] - 114s 61ms/step - loss: 0.1509 - accuracy: 0.9452 - val_loss: 0.2337 - val_accuracy: 0.9262\n",
            "Epoch 14/15\n",
            "1875/1875 [==============================] - 114s 61ms/step - loss: 0.1369 - accuracy: 0.9501 - val_loss: 0.2485 - val_accuracy: 0.9189\n",
            "Epoch 15/15\n",
            "1875/1875 [==============================] - 114s 61ms/step - loss: 0.1280 - accuracy: 0.9543 - val_loss: 0.2632 - val_accuracy: 0.9176\n"
          ]
        }
      ]
    },
    {
      "cell_type": "code",
      "source": [
        "test_loss, test_accuracy = model.evaluate(test_ds)\n",
        "print(\"Test accuracy: {:.2f}%\".format(test_accuracy * 100))"
      ],
      "metadata": {
        "colab": {
          "base_uri": "https://localhost:8080/"
        },
        "id": "rQom1-pPity4",
        "outputId": "853d9135-d9d9-4531-ff98-0c22423a5fb5"
      },
      "execution_count": 35,
      "outputs": [
        {
          "output_type": "stream",
          "name": "stdout",
          "text": [
            "313/313 [==============================] - 5s 15ms/step - loss: 0.2632 - accuracy: 0.9176\n",
            "Test accuracy: 91.76%\n"
          ]
        }
      ]
    },
    {
      "cell_type": "code",
      "source": [
        "model.save_weights(\"/content/drive/MyDrive/alexnet_model_weights_cutout.h5\")\n",
        "model.save(\"/content/drive/MyDrive/alexnet_model_cutout.h5\")"
      ],
      "metadata": {
        "id": "u20wbBuUi4Qj"
      },
      "execution_count": 36,
      "outputs": []
    },
    {
      "cell_type": "code",
      "source": [
        "plt.plot(history.history['accuracy'])\n",
        "plt.plot(history.history['val_accuracy'])\n",
        "plt.title('model accuracy')\n",
        "plt.ylabel('accuracy')\n",
        "plt.xlabel('epoch')\n",
        "plt.legend(['train', 'test'], loc='upper left')\n",
        "plt.show()"
      ],
      "metadata": {
        "colab": {
          "base_uri": "https://localhost:8080/",
          "height": 295
        },
        "id": "31bPkvChi92l",
        "outputId": "c1497def-23ed-4640-f66a-2964a97968cd"
      },
      "execution_count": 37,
      "outputs": [
        {
          "output_type": "display_data",
          "data": {
            "text/plain": [
              "<Figure size 432x288 with 1 Axes>"
            ],
            "image/png": "[encoded data removed]"
          },
          "metadata": {
            "needs_background": "light"
          }
        }
      ]
    },
    {
      "cell_type": "code",
      "source": [
        "plt.plot(history.history['loss'])\n",
        "plt.plot(history.history['val_loss'])\n",
        "plt.title('model loss')\n",
        "plt.ylabel('loss')\n",
        "plt.xlabel('epoch')\n",
        "plt.legend(['train', 'test'], loc='upper left')\n",
        "plt.show()"
      ],
      "metadata": {
        "colab": {
          "base_uri": "https://localhost:8080/",
          "height": 295
        },
        "id": "O0-xVJVmjBc5",
        "outputId": "b19e6b58-92cf-40f2-e185-af33e8f2a852"
      },
      "execution_count": 38,
      "outputs": [
        {
          "output_type": "display_data",
          "data": {
            "text/plain": [
              "<Figure size 432x288 with 1 Axes>"
            ],
            "image/png": "[encoded data removed]"
          },
          "metadata": {
            "needs_background": "light"
          }
        }
      ]
    },
    {
      "cell_type": "markdown",
      "source": [
        "#####Making Predictions "
      ],
      "metadata": {
        "id": "_efajriyjOH2"
      }
    },
    {
      "cell_type": "code",
      "source": [
        "predictions = model.predict(test_ds)"
      ],
      "metadata": {
        "id": "4mXaJ6_6jVV6"
      },
      "execution_count": 39,
      "outputs": []
    },
    {
      "cell_type": "code",
      "source": [
        "predictions[0]"
      ],
      "metadata": {
        "colab": {
          "base_uri": "https://localhost:8080/"
        },
        "id": "gxd4VNgmjZPh",
        "outputId": "1de76854-16ac-463e-b0b9-e5745bbff558"
      },
      "execution_count": 40,
      "outputs": [
        {
          "output_type": "execute_result",
          "data": {
            "text/plain": [
              "array([1.1013133e-04, 4.8961541e-05, 9.0860949e-06, 2.0722489e-05,\n",
              "       3.5550707e-05, 3.9456002e-04, 8.2838109e-05, 1.2159849e-05,\n",
              "       1.1791211e-04, 9.9916804e-01], dtype=float32)"
            ]
          },
          "metadata": {},
          "execution_count": 40
        }
      ]
    },
    {
      "cell_type": "code",
      "source": [
        "predictions[0].argmax()"
      ],
      "metadata": {
        "colab": {
          "base_uri": "https://localhost:8080/"
        },
        "id": "m_r8ggFzjdXY",
        "outputId": "9cbc6bf9-8f26-45f8-a4fd-7bc2597cea89"
      },
      "execution_count": 41,
      "outputs": [
        {
          "output_type": "execute_result",
          "data": {
            "text/plain": [
              "9"
            ]
          },
          "metadata": {},
          "execution_count": 41
        }
      ]
    },
    {
      "cell_type": "code",
      "source": [
        "test_labels[0]"
      ],
      "metadata": {
        "colab": {
          "base_uri": "https://localhost:8080/"
        },
        "id": "9JCHkC6YjfSq",
        "outputId": "a6b4ae9c-b1af-465c-ca51-575f7c5eb94d"
      },
      "execution_count": 42,
      "outputs": [
        {
          "output_type": "execute_result",
          "data": {
            "text/plain": [
              "9"
            ]
          },
          "metadata": {},
          "execution_count": 42
        }
      ]
    },
    {
      "cell_type": "code",
      "source": [
        "# Show the 0th image:\n",
        "index = 0\n",
        "utils.plot_image_and_prob(predictions, test_labels, test_images, i=index, big=True, class_names=class_names)"
      ],
      "metadata": {
        "colab": {
          "base_uri": "https://localhost:8080/",
          "height": 545
        },
        "id": "ZAmCaV-Mjied",
        "outputId": "f12e7c13-f5bc-4506-809c-c1e60ac948fc"
      },
      "execution_count": 43,
      "outputs": [
        {
          "output_type": "display_data",
          "data": {
            "text/plain": [
              "<Figure size 432x288 with 1 Axes>"
            ],
            "image/png": "[encoded data removed]"
          },
          "metadata": {}
        },
        {
          "output_type": "display_data",
          "data": {
            "text/plain": [
              "<Figure size 432x288 with 1 Axes>"
            ],
            "image/png": "[encoded data removed]"
          },
          "metadata": {
            "needs_background": "light"
          }
        }
      ]
    },
    {
      "cell_type": "code",
      "source": [
        "# As always - let's convert the probabilities array into classes\n",
        "predicted_classes = utils.label_with_highest_prob(predictions)\n",
        "\n",
        "# Plot the matrix\n",
        "utils.plot_confusion_matrix(y_pred=predicted_classes, y_true=test_labels, classes=np.array(class_names))"
      ],
      "metadata": {
        "colab": {
          "base_uri": "https://localhost:8080/",
          "height": 333
        },
        "id": "3vTQ0h3ejl7M",
        "outputId": "6531cf81-06d9-4796-b0a3-e5b17d77848d"
      },
      "execution_count": 44,
      "outputs": [
        {
          "output_type": "stream",
          "name": "stdout",
          "text": [
            "Confusion matrix\n"
          ]
        },
        {
          "output_type": "execute_result",
          "data": {
            "text/plain": [
              "<matplotlib.axes._subplots.AxesSubplot at 0x7fa966bd4450>"
            ]
          },
          "metadata": {},
          "execution_count": 44
        },
        {
          "output_type": "display_data",
          "data": {
            "text/plain": [
              "<Figure size 432x288 with 2 Axes>"
            ],
            "image/png": "[encoded data removed]"
          },
          "metadata": {
            "needs_background": "light"
          }
        }
      ]
    },
    {
      "cell_type": "code",
      "source": [
        "from sklearn.metrics import classification_report,roc_curve,confusion_matrix\n",
        "print('Classification Report\\n',classification_report(test_labels, predicted_classes))"
      ],
      "metadata": {
        "colab": {
          "base_uri": "https://localhost:8080/"
        },
        "id": "1vqSx_d_jnzy",
        "outputId": "cf30303b-7d1b-46c5-dca3-3b39a2399055"
      },
      "execution_count": 45,
      "outputs": [
        {
          "output_type": "stream",
          "name": "stdout",
          "text": [
            "Classification Report\n",
            "               precision    recall  f1-score   support\n",
            "\n",
            "           0       0.88      0.85      0.87      1000\n",
            "           1       0.98      0.99      0.99      1000\n",
            "           2       0.83      0.93      0.88      1000\n",
            "           3       0.93      0.92      0.92      1000\n",
            "           4       0.84      0.87      0.85      1000\n",
            "           5       0.96      0.99      0.98      1000\n",
            "           6       0.83      0.72      0.77      1000\n",
            "           7       0.96      0.96      0.96      1000\n",
            "           8       0.99      0.98      0.98      1000\n",
            "           9       0.98      0.96      0.97      1000\n",
            "\n",
            "    accuracy                           0.92     10000\n",
            "   macro avg       0.92      0.92      0.92     10000\n",
            "weighted avg       0.92      0.92      0.92     10000\n",
            "\n"
          ]
        }
      ]
    },
    {
      "cell_type": "markdown",
      "source": [
        "#### Model for images which are mixed augmented "
      ],
      "metadata": {
        "id": "mDEfwr3n414Z"
      }
    },
    {
      "cell_type": "code",
      "source": [
        "model = alexnet_model()"
      ],
      "metadata": {
        "id": "LEuUmPrm414a"
      },
      "execution_count": 126,
      "outputs": []
    },
    {
      "cell_type": "markdown",
      "source": [
        "#####Model training & evaluation "
      ],
      "metadata": {
        "id": "CPCeeRP1414b"
      }
    },
    {
      "cell_type": "code",
      "source": [
        "model.compile(optimizer = 'adam' , loss = 'categorical_crossentropy' , metrics=['accuracy'])"
      ],
      "metadata": {
        "id": "HaqFfYot414b"
      },
      "execution_count": 127,
      "outputs": []
    },
    {
      "cell_type": "code",
      "source": [
        "history = model.fit(train_ds_mixed, validation_data=test_ds, epochs=15)"
      ],
      "metadata": {
        "colab": {
          "base_uri": "https://localhost:8080/"
        },
        "outputId": "14429bff-752d-4cb2-dcc4-d134b35046c6",
        "id": "2IKFNLoR414c"
      },
      "execution_count": 128,
      "outputs": [
        {
          "output_type": "stream",
          "name": "stdout",
          "text": [
            "Epoch 1/15\n",
            "3750/3750 [==============================] - 231s 59ms/step - loss: 0.8430 - accuracy: 0.7675 - val_loss: 0.4286 - val_accuracy: 0.8579\n",
            "Epoch 2/15\n",
            "3750/3750 [==============================] - 229s 59ms/step - loss: 0.6591 - accuracy: 0.8234 - val_loss: 0.3334 - val_accuracy: 0.8784\n",
            "Epoch 3/15\n",
            "3750/3750 [==============================] - 229s 59ms/step - loss: 0.5870 - accuracy: 0.8429 - val_loss: 0.3693 - val_accuracy: 0.8721\n",
            "Epoch 4/15\n",
            "3750/3750 [==============================] - 230s 59ms/step - loss: 0.5377 - accuracy: 0.8592 - val_loss: 0.2903 - val_accuracy: 0.8982\n",
            "Epoch 5/15\n",
            "3750/3750 [==============================] - 230s 59ms/step - loss: 0.5036 - accuracy: 0.8682 - val_loss: 0.2561 - val_accuracy: 0.9083\n",
            "Epoch 6/15\n",
            "3750/3750 [==============================] - 230s 59ms/step - loss: 0.4728 - accuracy: 0.8777 - val_loss: 0.2073 - val_accuracy: 0.9281\n",
            "Epoch 7/15\n",
            "3750/3750 [==============================] - 229s 59ms/step - loss: 0.4505 - accuracy: 0.8870 - val_loss: 0.2269 - val_accuracy: 0.9208\n",
            "Epoch 8/15\n",
            "3750/3750 [==============================] - 232s 60ms/step - loss: 0.4285 - accuracy: 0.8919 - val_loss: 0.2626 - val_accuracy: 0.9135\n",
            "Epoch 9/15\n",
            "3750/3750 [==============================] - 230s 60ms/step - loss: 0.4093 - accuracy: 0.8990 - val_loss: 0.2230 - val_accuracy: 0.9263\n",
            "Epoch 10/15\n",
            "3750/3750 [==============================] - 229s 59ms/step - loss: 0.3971 - accuracy: 0.9021 - val_loss: 0.2408 - val_accuracy: 0.9245\n",
            "Epoch 11/15\n",
            "3750/3750 [==============================] - 230s 59ms/step - loss: 0.3841 - accuracy: 0.9080 - val_loss: 0.2231 - val_accuracy: 0.9299\n",
            "Epoch 12/15\n",
            "3750/3750 [==============================] - 230s 59ms/step - loss: 0.3731 - accuracy: 0.9113 - val_loss: 0.2288 - val_accuracy: 0.9310\n",
            "Epoch 13/15\n",
            "3750/3750 [==============================] - 229s 59ms/step - loss: 0.3645 - accuracy: 0.9137 - val_loss: 0.2356 - val_accuracy: 0.9298\n",
            "Epoch 14/15\n",
            "3750/3750 [==============================] - 231s 60ms/step - loss: 0.3571 - accuracy: 0.9169 - val_loss: 0.2668 - val_accuracy: 0.9183\n",
            "Epoch 15/15\n",
            "3750/3750 [==============================] - 229s 59ms/step - loss: 0.3510 - accuracy: 0.9191 - val_loss: 0.2405 - val_accuracy: 0.9289\n"
          ]
        }
      ]
    },
    {
      "cell_type": "code",
      "source": [
        "test_loss, test_accuracy = model.evaluate(test_ds)\n",
        "print(\"Test accuracy: {:.2f}%\".format(test_accuracy * 100))"
      ],
      "metadata": {
        "colab": {
          "base_uri": "https://localhost:8080/"
        },
        "outputId": "e40137ac-c429-40e0-f981-9f8320435728",
        "id": "lNIFHJSk414d"
      },
      "execution_count": 129,
      "outputs": [
        {
          "output_type": "stream",
          "name": "stdout",
          "text": [
            "313/313 [==============================] - 5s 15ms/step - loss: 0.2405 - accuracy: 0.9289\n",
            "Test accuracy: 92.89%\n"
          ]
        }
      ]
    },
    {
      "cell_type": "code",
      "source": [
        "model.save_weights(\"/content/drive/MyDrive/alexnet_model_weights_mixed.h5\") \n",
        "model.save(\"/content/drive/MyDrive/alexnet_model_mixed.h5\")"
      ],
      "metadata": {
        "id": "l_ZDOz7F414d"
      },
      "execution_count": 130,
      "outputs": []
    },
    {
      "cell_type": "code",
      "source": [
        "plt.plot(history.history['accuracy'])\n",
        "plt.plot(history.history['val_accuracy'])\n",
        "plt.title('model accuracy')\n",
        "plt.ylabel('accuracy')\n",
        "plt.xlabel('epoch')\n",
        "plt.legend(['train', 'test'], loc='upper left')\n",
        "plt.show()"
      ],
      "metadata": {
        "colab": {
          "base_uri": "https://localhost:8080/",
          "height": 295
        },
        "outputId": "91bb58d4-8716-47b8-d03a-b9436fe0e606",
        "id": "UGmFVTth414e"
      },
      "execution_count": 131,
      "outputs": [
        {
          "output_type": "display_data",
          "data": {
            "text/plain": [
              "<Figure size 432x288 with 1 Axes>"
            ],
            "image/png": "[encoded data removed]"
          },
          "metadata": {
            "needs_background": "light"
          }
        }
      ]
    },
    {
      "cell_type": "code",
      "source": [
        "plt.plot(history.history['loss'])\n",
        "plt.plot(history.history['val_loss'])\n",
        "plt.title('model loss')\n",
        "plt.ylabel('loss')\n",
        "plt.xlabel('epoch')\n",
        "plt.legend(['train', 'test'], loc='upper left')\n",
        "plt.show()"
      ],
      "metadata": {
        "colab": {
          "base_uri": "https://localhost:8080/",
          "height": 295
        },
        "outputId": "e81bd825-46c8-4b06-ab95-d29bf34f7936",
        "id": "_nuJH9YQ414f"
      },
      "execution_count": 132,
      "outputs": [
        {
          "output_type": "display_data",
          "data": {
            "text/plain": [
              "<Figure size 432x288 with 1 Axes>"
            ],
            "image/png": "[encoded data removed]"
          },
          "metadata": {
            "needs_background": "light"
          }
        }
      ]
    },
    {
      "cell_type": "markdown",
      "source": [
        "#####Making Predictions "
      ],
      "metadata": {
        "id": "CiOvNC9M414f"
      }
    },
    {
      "cell_type": "code",
      "source": [
        "predictions = model.predict(test_ds)"
      ],
      "metadata": {
        "id": "AgAQ8BLZ414g"
      },
      "execution_count": 133,
      "outputs": []
    },
    {
      "cell_type": "code",
      "source": [
        "predictions[0]"
      ],
      "metadata": {
        "colab": {
          "base_uri": "https://localhost:8080/"
        },
        "outputId": "b37bd57f-2ae6-4f8b-e38e-2a5beeb26ad7",
        "id": "PU43Y3Lw414g"
      },
      "execution_count": 134,
      "outputs": [
        {
          "output_type": "execute_result",
          "data": {
            "text/plain": [
              "array([1.1811587e-05, 1.7659706e-05, 2.1571366e-06, 4.5046527e-06,\n",
              "       4.1524439e-05, 7.9337260e-05, 2.7370204e-05, 6.6051049e-05,\n",
              "       1.4379822e-05, 9.9973518e-01], dtype=float32)"
            ]
          },
          "metadata": {},
          "execution_count": 134
        }
      ]
    },
    {
      "cell_type": "code",
      "source": [
        "predictions[0].argmax()"
      ],
      "metadata": {
        "colab": {
          "base_uri": "https://localhost:8080/"
        },
        "outputId": "dfeb902e-ebc6-4ebd-dd7a-11c18d7ff600",
        "id": "I-AKWfcq414h"
      },
      "execution_count": 135,
      "outputs": [
        {
          "output_type": "execute_result",
          "data": {
            "text/plain": [
              "9"
            ]
          },
          "metadata": {},
          "execution_count": 135
        }
      ]
    },
    {
      "cell_type": "code",
      "source": [
        "test_labels[0]"
      ],
      "metadata": {
        "colab": {
          "base_uri": "https://localhost:8080/"
        },
        "outputId": "d69bf7ff-6108-4931-f28f-6ffb6151b842",
        "id": "MwTtF89I414i"
      },
      "execution_count": 136,
      "outputs": [
        {
          "output_type": "execute_result",
          "data": {
            "text/plain": [
              "9"
            ]
          },
          "metadata": {},
          "execution_count": 136
        }
      ]
    },
    {
      "cell_type": "code",
      "source": [
        "# Show the 0th image:\n",
        "index = 0\n",
        "utils.plot_image_and_prob(predictions, test_labels, test_images, i=index, big=True, class_names=class_names)"
      ],
      "metadata": {
        "colab": {
          "base_uri": "https://localhost:8080/",
          "height": 545
        },
        "outputId": "e1a09a5e-af17-42e2-fd07-fee3ad0c6f25",
        "id": "oKZu5qOr414i"
      },
      "execution_count": 137,
      "outputs": [
        {
          "output_type": "display_data",
          "data": {
            "text/plain": [
              "<Figure size 432x288 with 1 Axes>"
            ],
            "image/png": "[encoded data removed]"
          },
          "metadata": {}
        },
        {
          "output_type": "display_data",
          "data": {
            "text/plain": [
              "<Figure size 432x288 with 1 Axes>"
            ],
            "image/png": "[encoded data removed]"
          },
          "metadata": {
            "needs_background": "light"
          }
        }
      ]
    },
    {
      "cell_type": "code",
      "source": [
        "# As always - let's convert the probabilities array into classes\n",
        "predicted_classes = utils.label_with_highest_prob(predictions)\n",
        "\n",
        "# Plot the matrix\n",
        "utils.plot_confusion_matrix(y_pred=predicted_classes, y_true=test_labels, classes=np.array(class_names))"
      ],
      "metadata": {
        "colab": {
          "base_uri": "https://localhost:8080/",
          "height": 333
        },
        "outputId": "65d2bed5-312c-4dcb-bcc2-b0f2d6f85e5b",
        "id": "CawKny0I414j"
      },
      "execution_count": 138,
      "outputs": [
        {
          "output_type": "stream",
          "name": "stdout",
          "text": [
            "Confusion matrix\n"
          ]
        },
        {
          "output_type": "execute_result",
          "data": {
            "text/plain": [
              "<matplotlib.axes._subplots.AxesSubplot at 0x7fa6e8789710>"
            ]
          },
          "metadata": {},
          "execution_count": 138
        },
        {
          "output_type": "display_data",
          "data": {
            "text/plain": [
              "<Figure size 432x288 with 2 Axes>"
            ],
            "image/png": "[encoded data removed]"
          },
          "metadata": {
            "needs_background": "light"
          }
        }
      ]
    },
    {
      "cell_type": "code",
      "source": [
        "from sklearn.metrics import classification_report,roc_curve,confusion_matrix\n",
        "print('Classification Report\\n',classification_report(test_labels, predicted_classes))"
      ],
      "metadata": {
        "colab": {
          "base_uri": "https://localhost:8080/"
        },
        "outputId": "c0bafcbb-b65e-4c18-95d4-03a788ec320d",
        "id": "g7OGTPp2414k"
      },
      "execution_count": 139,
      "outputs": [
        {
          "output_type": "stream",
          "name": "stdout",
          "text": [
            "Classification Report\n",
            "               precision    recall  f1-score   support\n",
            "\n",
            "           0       0.90      0.84      0.87      1000\n",
            "           1       0.99      0.99      0.99      1000\n",
            "           2       0.85      0.92      0.89      1000\n",
            "           3       0.93      0.94      0.94      1000\n",
            "           4       0.87      0.90      0.88      1000\n",
            "           5       0.99      0.99      0.99      1000\n",
            "           6       0.82      0.76      0.79      1000\n",
            "           7       0.96      0.99      0.97      1000\n",
            "           8       0.99      0.99      0.99      1000\n",
            "           9       0.99      0.96      0.98      1000\n",
            "\n",
            "    accuracy                           0.93     10000\n",
            "   macro avg       0.93      0.93      0.93     10000\n",
            "weighted avg       0.93      0.93      0.93     10000\n",
            "\n"
          ]
        }
      ]
    },
    {
      "cell_type": "markdown",
      "source": [
        "###Conclusions: \n",
        "1. Cutmixed and cutout data augmentation techniques were applied on fashion mnist dataset.  \n",
        "2. For cutmixed technique accuracy obtained was 91.05% with an average precision of 92 and 91 average recall and 91 F-1 score.Cutmixed worked really good for most classes but performed below average for class T-Shirt/top. \n",
        "3. For cutout technique accuracy obtained was 91.76% with an average precision of 92 and 92 average recall and 92 F1-score. One of the reasons could be cause of random cuts, there were some images that were practically not so much distorted as cutmixed.Cutout performed below average for class Shirt class. \n",
        "4. A mixture of both type of augmentated dataset was created and accuracy of 92.89% was obtained with an average precision of 93 and 93 average recall and 93 F1-score.This performed below average for class Shirt class. \n"
      ],
      "metadata": {
        "id": "TJlSzIVU5kp9"
      }
    }
  ],
  "metadata": {
    "colab": {
      "collapsed_sections": [
        "UAAaG92_7JwJ",
        "AZvcGy2XIkY-",
        "JQzPRKx2IsiS",
        "5toJePchJuIG",
        "FtQfI52czruD",
        "-JZRALSch6yz",
        "b6yPe5KhYIVr",
        "ZtcNCBvdgl33",
        "YcZdU-cLufid",
        "9-Cuk82n7vXc",
        "_efajriyjOH2"
      ],
      "name": "CutMix & CutOut Data Augmentation.ipynb",
      "provenance": [],
      "authorship_tag": "ABX9TyM3RIOYVPqYMoJrJewhAK0n",
      "include_colab_link": true
    },
    "kernelspec": {
      "display_name": "Python 3",
      "name": "python3"
    },
    "language_info": {
      "name": "python"
    },
    "accelerator": "GPU"
  },
  "nbformat": 4,
  "nbformat_minor": 0
}